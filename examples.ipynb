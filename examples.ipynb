{
 "metadata": {
  "language_info": {
   "codemirror_mode": {
    "name": "ipython",
    "version": 3
   },
   "file_extension": ".py",
   "mimetype": "text/x-python",
   "name": "python",
   "nbconvert_exporter": "python",
   "pygments_lexer": "ipython3",
   "version": "3.8.5-final"
  },
  "orig_nbformat": 2,
  "kernelspec": {
   "name": "python3",
   "display_name": "Python 3",
   "language": "python"
  }
 },
 "nbformat": 4,
 "nbformat_minor": 2,
 "cells": [
  {
   "cell_type": "code",
   "execution_count": 25,
   "metadata": {},
   "outputs": [
    {
     "output_type": "stream",
     "name": "stdout",
     "text": [
      "[-5, -4, -3, -2, -1, 0, 1, 2, 3, 4, 5]\n"
     ]
    }
   ],
   "source": [
    "from solutions import small_example, big_example\n",
    "print(small_example)"
   ]
  },
  {
   "source": [
    "Built-In Python List Functions:\n",
    "\n",
    "min()\n",
    "\n",
    "max()\n",
    "\n",
    "len()\n",
    "\n",
    "min() finds the minimum.."
   ],
   "cell_type": "markdown",
   "metadata": {}
  },
  {
   "cell_type": "code",
   "execution_count": 26,
   "metadata": {},
   "outputs": [
    {
     "output_type": "execute_result",
     "data": {
      "text/plain": [
       "-5"
      ]
     },
     "metadata": {},
     "execution_count": 26
    }
   ],
   "source": [
    "min(small_example)"
   ]
  },
  {
   "source": [
    "max() finds the maximum.."
   ],
   "cell_type": "markdown",
   "metadata": {}
  },
  {
   "cell_type": "code",
   "execution_count": 27,
   "metadata": {},
   "outputs": [
    {
     "output_type": "execute_result",
     "data": {
      "text/plain": [
       "5"
      ]
     },
     "metadata": {},
     "execution_count": 27
    }
   ],
   "source": [
    "max(small_example)"
   ]
  },
  {
   "source": [
    "and len() finds the length!"
   ],
   "cell_type": "markdown",
   "metadata": {}
  },
  {
   "cell_type": "code",
   "execution_count": 28,
   "metadata": {},
   "outputs": [
    {
     "output_type": "execute_result",
     "data": {
      "text/plain": [
       "11"
      ]
     },
     "metadata": {},
     "execution_count": 28
    }
   ],
   "source": [
    "len(small_example)"
   ]
  },
  {
   "source": [
    "Built in functions for data-types include:\n",
    "\n",
    "int()\n",
    "\n",
    "float()\n",
    "\n",
    "str()\n",
    "\n",
    "int() converts numbers with zeros after the decimal or strings of numbers to integers:"
   ],
   "cell_type": "markdown",
   "metadata": {}
  },
  {
   "cell_type": "code",
   "execution_count": 29,
   "metadata": {},
   "outputs": [
    {
     "output_type": "execute_result",
     "data": {
      "text/plain": [
       "5"
      ]
     },
     "metadata": {},
     "execution_count": 29
    }
   ],
   "source": [
    "int(5.0)"
   ]
  },
  {
   "cell_type": "code",
   "execution_count": 30,
   "metadata": {},
   "outputs": [
    {
     "output_type": "execute_result",
     "data": {
      "text/plain": [
       "420"
      ]
     },
     "metadata": {},
     "execution_count": 30
    }
   ],
   "source": [
    "int(\"420\")"
   ]
  },
  {
   "source": [
    "### float() converts string numerals and integers into floating point numbers(numbers with a decimal)"
   ],
   "cell_type": "markdown",
   "metadata": {}
  },
  {
   "cell_type": "code",
   "execution_count": 31,
   "metadata": {},
   "outputs": [
    {
     "output_type": "execute_result",
     "data": {
      "text/plain": [
       "2.5"
      ]
     },
     "metadata": {},
     "execution_count": 31
    }
   ],
   "source": [
    "5/2"
   ]
  },
  {
   "cell_type": "code",
   "execution_count": 32,
   "metadata": {},
   "outputs": [
    {
     "output_type": "execute_result",
     "data": {
      "text/plain": [
       "42.0"
      ]
     },
     "metadata": {},
     "execution_count": 32
    }
   ],
   "source": [
    "float(\"42\")"
   ]
  },
  {
   "cell_type": "code",
   "execution_count": 33,
   "metadata": {},
   "outputs": [
    {
     "output_type": "execute_result",
     "data": {
      "text/plain": [
       "5.0"
      ]
     },
     "metadata": {},
     "execution_count": 33
    }
   ],
   "source": [
    "float(5)"
   ]
  },
  {
   "source": [
    "and str() converts its contents to a string, which can be helpful if you want to add spaces or chracters like '!' before or after numbers in a string:"
   ],
   "cell_type": "markdown",
   "metadata": {}
  },
  {
   "cell_type": "code",
   "execution_count": 34,
   "metadata": {},
   "outputs": [
    {
     "output_type": "error",
     "ename": "TypeError",
     "evalue": "unsupported operand type(s) for +: 'int' and 'str'",
     "traceback": [
      "\u001b[1;31m---------------------------------------------------------------------------\u001b[0m",
      "\u001b[1;31mTypeError\u001b[0m                                 Traceback (most recent call last)",
      "\u001b[1;32m<ipython-input-34-0b86fa70dfcc>\u001b[0m in \u001b[0;36m<module>\u001b[1;34m\u001b[0m\n\u001b[1;32m----> 1\u001b[1;33m \u001b[1;36m5\u001b[0m\u001b[1;33m+\u001b[0m \u001b[1;34m\"! Favorite Number!\"\u001b[0m\u001b[1;33m\u001b[0m\u001b[1;33m\u001b[0m\u001b[0m\n\u001b[0m",
      "\u001b[1;31mTypeError\u001b[0m: unsupported operand type(s) for +: 'int' and 'str'"
     ]
    }
   ],
   "source": [
    "5+ \"! Favorite Number!\""
   ]
  },
  {
   "cell_type": "code",
   "execution_count": 35,
   "metadata": {},
   "outputs": [
    {
     "output_type": "execute_result",
     "data": {
      "text/plain": [
       "'5! Favorite Number!'"
      ]
     },
     "metadata": {},
     "execution_count": 35
    }
   ],
   "source": [
    "str(5) + \"! Favorite Number!\""
   ]
  },
  {
   "source": [
    "-------------------\n",
    "# Built-In String Methods"
   ],
   "cell_type": "markdown",
   "metadata": {}
  },
  {
   "source": [
    "But first, the difference between a built-in method and a built-in function.\n",
    "\n",
    "Methods are functions that attributes of the object that carreies them.  Built-in functions are booted up when you start Python and are available in all of Python.  Methods are attributes of objects.  Strings are object types and every string has certain methods built-in."
   ],
   "cell_type": "markdown",
   "metadata": {}
  },
  {
   "source": [
    "Using a built-in function syntax:"
   ],
   "cell_type": "markdown",
   "metadata": {}
  },
  {
   "cell_type": "code",
   "execution_count": 36,
   "metadata": {},
   "outputs": [
    {
     "output_type": "execute_result",
     "data": {
      "text/plain": [
       "4"
      ]
     },
     "metadata": {},
     "execution_count": 36
    }
   ],
   "source": [
    "len(\"Eric\")"
   ]
  },
  {
   "cell_type": "code",
   "execution_count": 37,
   "metadata": {},
   "outputs": [
    {
     "output_type": "execute_result",
     "data": {
      "text/plain": [
       "97"
      ]
     },
     "metadata": {},
     "execution_count": 37
    }
   ],
   "source": [
    "string_example = \"Eric is the best teacher ever! Seriously, I owe everything I know in the whole universe to him!!!\"\n",
    "\n",
    "len(string_example)"
   ]
  },
  {
   "source": [
    "Using a built-in method:"
   ],
   "cell_type": "markdown",
   "metadata": {}
  },
  {
   "cell_type": "code",
   "execution_count": 38,
   "metadata": {},
   "outputs": [
    {
     "output_type": "execute_result",
     "data": {
      "text/plain": [
       "'ERIC'"
      ]
     },
     "metadata": {},
     "execution_count": 38
    }
   ],
   "source": [
    "\"Eric\".upper()"
   ]
  },
  {
   "cell_type": "code",
   "execution_count": 39,
   "metadata": {},
   "outputs": [
    {
     "output_type": "execute_result",
     "data": {
      "text/plain": [
       "'Eric is the best teacher ever! Seriously, I owe everything I know in the whole universe to him!!!'"
      ]
     },
     "metadata": {},
     "execution_count": 39
    }
   ],
   "source": [
    "string_example"
   ]
  },
  {
   "cell_type": "code",
   "execution_count": 40,
   "metadata": {},
   "outputs": [
    {
     "output_type": "execute_result",
     "data": {
      "text/plain": [
       "'ERIC IS THE BEST TEACHER EVER! SERIOUSLY, I OWE EVERYTHING I KNOW IN THE WHOLE UNIVERSE TO HIM!!!'"
      ]
     },
     "metadata": {},
     "execution_count": 40
    }
   ],
   "source": [
    "string_example.upper()"
   ]
  },
  {
   "source": [
    "## A whole bunch of examples of string methods:"
   ],
   "cell_type": "markdown",
   "metadata": {}
  },
  {
   "source": [
    "### .upper()"
   ],
   "cell_type": "markdown",
   "metadata": {}
  },
  {
   "cell_type": "code",
   "execution_count": 41,
   "metadata": {},
   "outputs": [
    {
     "output_type": "execute_result",
     "data": {
      "text/plain": [
       "'ERIC IS THE BEST TEACHER EVER! SERIOUSLY, I OWE EVERYTHING I KNOW IN THE WHOLE UNIVERSE TO HIM!!!'"
      ]
     },
     "metadata": {},
     "execution_count": 41
    }
   ],
   "source": [
    "string_example.upper()"
   ]
  },
  {
   "source": [
    "### .lower()"
   ],
   "cell_type": "markdown",
   "metadata": {}
  },
  {
   "cell_type": "code",
   "execution_count": 42,
   "metadata": {},
   "outputs": [
    {
     "output_type": "execute_result",
     "data": {
      "text/plain": [
       "'eric is the best teacher ever! seriously, i owe everything i know in the whole universe to him!!!'"
      ]
     },
     "metadata": {},
     "execution_count": 42
    }
   ],
   "source": [
    "string_example.lower()"
   ]
  },
  {
   "source": [
    "### .title()"
   ],
   "cell_type": "markdown",
   "metadata": {}
  },
  {
   "cell_type": "code",
   "execution_count": 43,
   "metadata": {},
   "outputs": [
    {
     "output_type": "execute_result",
     "data": {
      "text/plain": [
       "'Eric Is The Best Teacher Ever! Seriously, I Owe Everything I Know In The Whole Universe To Him!!!'"
      ]
     },
     "metadata": {},
     "execution_count": 43
    }
   ],
   "source": [
    "string_example.title()"
   ]
  },
  {
   "source": [
    "### Not all string methods output a string. '.split()' outputs a list. It is also the first method we are looking at which takes an argument, which in this case is what character to split on."
   ],
   "cell_type": "markdown",
   "metadata": {}
  },
  {
   "cell_type": "code",
   "execution_count": 44,
   "metadata": {},
   "outputs": [
    {
     "output_type": "execute_result",
     "data": {
      "text/plain": [
       "['Eric',\n",
       " 'is',\n",
       " 'the',\n",
       " 'best',\n",
       " 'teacher',\n",
       " 'ever!',\n",
       " 'Seriously,',\n",
       " 'I',\n",
       " 'owe',\n",
       " 'everything',\n",
       " 'I',\n",
       " 'know',\n",
       " 'in',\n",
       " 'the',\n",
       " 'whole',\n",
       " 'universe',\n",
       " 'to',\n",
       " 'him!!!']"
      ]
     },
     "metadata": {},
     "execution_count": 44
    }
   ],
   "source": [
    "string_example.split(\" \")"
   ]
  },
  {
   "source": [
    "### .split() defaults to \" \" so if we left it blank we would have gotten the same output.  But lets try something a bit wonkier and split on 'e' "
   ],
   "cell_type": "markdown",
   "metadata": {}
  },
  {
   "cell_type": "code",
   "execution_count": 45,
   "metadata": {},
   "outputs": [
    {
     "output_type": "execute_result",
     "data": {
      "text/plain": [
       "'Eric is the best teacher ever! Seriously, I owe everything I know in the whole universe to him!!!'"
      ]
     },
     "metadata": {},
     "execution_count": 45
    }
   ],
   "source": [
    "new_example = string_example.split(\"e\")\n",
    "new_example = \"e\".join(new_example)\n",
    "new_example"
   ]
  },
  {
   "source": [
    "Notice that it not only split on 'e' but also removed them.  And because python is case-sensitive by default, 'E' was not split.\n",
    "\n",
    "-----------------------------\n",
    "\n",
    "Similar to built-in functions, built-in methods do not change the original string, but output a copy of the string.  They only change the original string if you tell it to, similar to a = a+5\n",
    "\n",
    "Watch what happens below:"
   ],
   "cell_type": "markdown",
   "metadata": {}
  },
  {
   "cell_type": "code",
   "execution_count": 46,
   "metadata": {},
   "outputs": [
    {
     "output_type": "stream",
     "name": "stdout",
     "text": [
      "ERIC IS THE BEST TEACHER EVER! SERIOUSLY, I OWE EVERYTHING I KNOW IN THE WHOLE UNIVERSE TO HIM!!!\n"
     ]
    }
   ],
   "source": [
    "another_string_example = string_example.upper()\n",
    "\n",
    "print(another_string_example)"
   ]
  },
  {
   "cell_type": "code",
   "execution_count": 47,
   "metadata": {},
   "outputs": [
    {
     "output_type": "stream",
     "name": "stdout",
     "text": [
      "Eric is the best teacher ever! Seriously, I owe everything I know in the whole universe to him!!!\n"
     ]
    }
   ],
   "source": [
    "print(string_example)"
   ]
  },
  {
   "source": [
    "As you can see, string_example stayed the same.  But again, if we want to change it we can overwrite it, as below:"
   ],
   "cell_type": "markdown",
   "metadata": {}
  },
  {
   "cell_type": "code",
   "execution_count": 48,
   "metadata": {},
   "outputs": [
    {
     "output_type": "stream",
     "name": "stdout",
     "text": [
      "ERIC IS THE BEST TEACHER EVER! SERIOUSLY, I OWE EVERYTHING I KNOW IN THE WHOLE UNIVERSE TO HIM!!!\n"
     ]
    }
   ],
   "source": [
    "string_example = string_example.upper()\n",
    "\n",
    "print(string_example)"
   ]
  },
  {
   "source": [
    "# Dictionaries!!!\n",
    "\n",
    "### Dictionaries are like lists, except you refer to specific values with keywords rather than its position.  You define a dictionary using moustache braces like such:"
   ],
   "cell_type": "markdown",
   "metadata": {}
  },
  {
   "cell_type": "code",
   "execution_count": 49,
   "metadata": {},
   "outputs": [],
   "source": [
    "erics_dict = {\n",
    "    'age': 29,\n",
    "    'favorite_food':'Grapefruit',\n",
    "    'pets':['Marty','Sandy','Goobie'],\n",
    "    'favorite_person':'Mary Beth',\n",
    "    'favorite_activity':'Bothering Marty with Mary Beth',\n",
    "    'favorite_function': print }"
   ]
  },
  {
   "source": [
    "We can access the dictionaries attributes using bracket notation as with the following examples:"
   ],
   "cell_type": "markdown",
   "metadata": {}
  },
  {
   "cell_type": "code",
   "execution_count": 50,
   "metadata": {},
   "outputs": [
    {
     "output_type": "execute_result",
     "data": {
      "text/plain": [
       "29"
      ]
     },
     "metadata": {},
     "execution_count": 50
    }
   ],
   "source": [
    "erics_dict['age']"
   ]
  },
  {
   "cell_type": "code",
   "execution_count": 51,
   "metadata": {},
   "outputs": [
    {
     "output_type": "execute_result",
     "data": {
      "text/plain": [
       "'Bothering Marty with Mary Beth'"
      ]
     },
     "metadata": {},
     "execution_count": 51
    }
   ],
   "source": [
    "erics_dict['favorite_activity']"
   ]
  },
  {
   "cell_type": "code",
   "execution_count": 52,
   "metadata": {},
   "outputs": [
    {
     "output_type": "execute_result",
     "data": {
      "text/plain": [
       "['Marty', 'Sandy', 'Goobie']"
      ]
     },
     "metadata": {},
     "execution_count": 52
    }
   ],
   "source": [
    "erics_dict['pets']"
   ]
  },
  {
   "cell_type": "code",
   "execution_count": 53,
   "metadata": {},
   "outputs": [
    {
     "output_type": "stream",
     "name": "stdout",
     "text": [
      "Hello\n"
     ]
    }
   ],
   "source": [
    "erics_dict['favorite_function']('Hello')"
   ]
  },
  {
   "source": [
    "As you can see, dictionaries can hold anything, even functions, and you can call them from the dictionary as above.  You can even use other things as a dictionaries 'key', and can change them on the fly, as below:"
   ],
   "cell_type": "markdown",
   "metadata": {}
  },
  {
   "cell_type": "code",
   "execution_count": 54,
   "metadata": {},
   "outputs": [
    {
     "output_type": "execute_result",
     "data": {
      "text/plain": [
       "'The month of my birth'"
      ]
     },
     "metadata": {},
     "execution_count": 54
    }
   ],
   "source": [
    "erics_dict[8] = 'The month of my birth'\n",
    "\n",
    "erics_dict[8]"
   ]
  },
  {
   "cell_type": "code",
   "execution_count": 55,
   "metadata": {},
   "outputs": [
    {
     "output_type": "execute_result",
     "data": {
      "text/plain": [
       "['Marty', 'Sandy', 'Goobie', 'Nell :(']"
      ]
     },
     "metadata": {},
     "execution_count": 55
    }
   ],
   "source": [
    "erics_dict['pets'].append('Nell :(')\n",
    "erics_dict['pets']"
   ]
  },
  {
   "source": [
    "Lets take a look at the whole dictionary"
   ],
   "cell_type": "markdown",
   "metadata": {}
  },
  {
   "cell_type": "code",
   "execution_count": 56,
   "metadata": {},
   "outputs": [
    {
     "output_type": "execute_result",
     "data": {
      "text/plain": [
       "{'age': 29,\n",
       " 'favorite_food': 'Grapefruit',\n",
       " 'pets': ['Marty', 'Sandy', 'Goobie', 'Nell :('],\n",
       " 'favorite_person': 'Mary Beth',\n",
       " 'favorite_activity': 'Bothering Marty with Mary Beth',\n",
       " 'favorite_function': <function print>,\n",
       " 8: 'The month of my birth'}"
      ]
     },
     "metadata": {},
     "execution_count": 56
    }
   ],
   "source": [
    "erics_dict"
   ]
  },
  {
   "source": [
    "-------------------------------------------\n",
    "# Classes"
   ],
   "cell_type": "markdown",
   "metadata": {}
  },
  {
   "source": [
    "### You probably wont be defining your own classes much, and if you do, not for a while. You will, however, be using them a lot, and already have been.  So its good to be familiar with them.\n",
    "\n",
    " - Lists\n",
    " - Dictionaries\n",
    " - Strings\n",
    "\n",
    "These are all classes.  They are Python objects with attributes and methods.  But what if you want to make your ***own*** type of thing?  A library you will be using quite a bit called 'pandas' wasn't satisfied with these and made their own type of Object called a DataFrame, that will make your programming life much easier.\n",
    "\n",
    "If you know how to make Classes, you will be less mistified when you learn how to use Classes that other people have made, such as 'DataFrames' or 'numpy Arrays'"
   ],
   "cell_type": "markdown",
   "metadata": {}
  },
  {
   "source": [
    "## What is a class?\n",
    "\n",
    "## **Whatever the fuck you want!**\n",
    "\n",
    "#### It is a particular type of object that has whatever attributes you want.  It will remind you a lot of Dictionaries, with the benefit that you can make 'instances' of a class which are mostly the same but have key differences.  I showed you a class I made which generates litters of mouseoids for different types of mouseoids.  A Class was a great tool because the code-machinery needed to be nearly the same but only with small differences.  It made it easy to crank out different types of generators, and streamlined the process if I wanted to change how every generator worked."
   ],
   "cell_type": "markdown",
   "metadata": {}
  },
  {
   "source": [
    "Lets use a tried and true example, and make a class called Person.  Like everything else, Python makes it easy.  Its like writing an empty function using 'class' rather than 'def'"
   ],
   "cell_type": "markdown",
   "metadata": {}
  },
  {
   "cell_type": "code",
   "execution_count": 57,
   "metadata": {},
   "outputs": [],
   "source": [
    "class Person():\n",
    "    pass"
   ]
  },
  {
   "source": [
    "This made an empty class with no methods and no attributes.  So lets try a little harder to make something that isn't stupid"
   ],
   "cell_type": "markdown",
   "metadata": {}
  },
  {
   "cell_type": "code",
   "execution_count": 58,
   "metadata": {},
   "outputs": [
    {
     "output_type": "stream",
     "name": "stdout",
     "text": [
      "My name is None, I'm 0 years old, and I love to eat Black void of nothingness. \nYup..\n"
     ]
    }
   ],
   "source": [
    "class Person():\n",
    "    name = \"None\"\n",
    "    age = 0\n",
    "    favorite_food = \"Black void of nothingness\"\n",
    "    dumb_saying = 'Yup.'\n",
    "    def greeting(self):\n",
    "        print(f\"My name is {self.name}, I'm {self.age} years old, and I love to eat {self.favorite_food}. \\n{self.dumb_saying}.\")\n",
    "\n",
    "blank_person = Person()\n",
    "blank_person.greeting()"
   ]
  },
  {
   "source": [
    "This doesn't seem very useful, though. You also might be a little mystified by the keyword 'self' here, which is a special keyword.  You can ignore it for now and we can get into it later.  \n",
    "\n",
    "The use comes in when we use the Person super-class as a schematic to make a bunch of people without much additional code."
   ],
   "cell_type": "markdown",
   "metadata": {}
  },
  {
   "cell_type": "code",
   "execution_count": 59,
   "metadata": {},
   "outputs": [
    {
     "output_type": "stream",
     "name": "stdout",
     "text": [
      "29\nMy name is Eric, I'm 29 years old, and I love to eat Grapefruit. \nShabbily-Doo!!.\n"
     ]
    }
   ],
   "source": [
    "eric = Person()\n",
    "eric.name = \"Eric\"\n",
    "eric.age = 29\n",
    "eric.favorite_food = \"Grapefruit\"\n",
    "eric.dumb_saying = \"Shabbily-Doo!!\"\n",
    "\n",
    "print(eric.age)\n",
    "eric.greeting()"
   ]
  },
  {
   "cell_type": "code",
   "execution_count": 60,
   "metadata": {},
   "outputs": [
    {
     "output_type": "stream",
     "name": "stdout",
     "text": [
      "28\nMy name is Mary Beth, I'm 28 years old, and I love to eat Tacos!...no.. Chocolate!...no.. Cookie Dough!!. \nThis is fucking stupid...\n"
     ]
    }
   ],
   "source": [
    "mary_beth = Person()\n",
    "mary_beth.name = \"Mary Beth\"\n",
    "mary_beth.age = 28\n",
    "mary_beth.favorite_food = \"Tacos!...no.. Chocolate!...no.. Cookie Dough!!\"\n",
    "mary_beth.dumb_saying = \"This is fucking stupid..\"\n",
    "\n",
    "print(mary_beth.age)\n",
    "mary_beth.greeting()"
   ]
  },
  {
   "source": [
    "The use of the special keyword 'self' may be apparent at this point along with one of the benefits of the function.  See when we make a dictionary we know exactly what it is going to be called, because we only define it once.  The point of a class is to make something which can be copied multiple times.  We don't know all of the names we are going to use for all of the Person()s we're going to make, but we need to be able to call those methods and attributes.  So 'self' is a magical keyword that learns what we name the new instance when we make it so it can call mary_beths age with mary_beth.age, even if we didn't plan a mary_beth when we made Person."
   ],
   "cell_type": "markdown",
   "metadata": {}
  },
  {
   "source": [
    "At the risk of further mystifying you, I'm going to address a concern you and many others might have when looking at the class examples above:  We use a lot of lines of code to define a new person.\n",
    "\n",
    "We can streamline this process at the risk of making code look more foreign by using Pythons built in constructor function called '\\_\\_init\\_\\_'\n",
    "\n",
    "Whenever you make a Class, python is programmed to run its \\_\\_init\\_\\_ method if it exists, so any code you want to run on the definition of the class can be written in an \\_\\_init\\_\\_ method, to streamline the process of making new instances.\n",
    "\n",
    "Its okay if you aren't following.  This isn't important to memorize whatsoever, but it will be extreemely helpful to have seen it before. That understanding might reduce the amount of 'cargo-cult' thinking you need to employ when learning 'pandas' and 'numpy' libraries.\n",
    "\n",
    "\n",
    "-------------\n",
    "\n",
    "Getting back on track, lets make a Dog class with an \\_\\_init\\_\\_ constructor below"
   ],
   "cell_type": "markdown",
   "metadata": {}
  },
  {
   "cell_type": "code",
   "execution_count": 61,
   "metadata": {},
   "outputs": [],
   "source": [
    "class Dog():\n",
    "    def __init__(self, legs = 4, name = 'doggo',fave_food = \"treat\", bark = 'woof'):\n",
    "        self.legs = legs\n",
    "        self.name = name\n",
    "        self.fave_food = fave_food\n",
    "        self.bark = bark\n",
    "    def speak(self):\n",
    "        print(self.bark,\"...\\n\",self.bark.upper(),\"!!! \\n\", f\"\\n*sniffs your pocket hopefully for a {self.fave_food}\")"
   ]
  },
  {
   "source": [
    "If the above looks horribly redundant, thats a good thing.  See, you'll be using keyword assignment when making instances of a class, so the code running within the \\_\\_init\\_\\_ method should look like a mirror when its assigning its attributes to the function keywords, or else you might not know what keywords to use when calling the superclass.\n",
    "\n",
    "The other thing to keep in mind is that when defining a method, you ALWAYS need to add self as a parameter.  Even if you don't intend to use the attributes of the class, you need to add self as the first parameter.\n",
    "\n",
    "If you're confused, thats good.  If you arent confused you're either a genius or you aren't paying attention.  You arent going to achieve understanding on the first pass here.  The point is getting first contact out of the way so it looks familiar if you ever do need to learn how to do this.\n",
    "\n",
    "Lets just relax and make some dogs!"
   ],
   "cell_type": "markdown",
   "metadata": {}
  },
  {
   "cell_type": "code",
   "execution_count": 62,
   "metadata": {},
   "outputs": [
    {
     "output_type": "stream",
     "name": "stdout",
     "text": [
      "4\nboof ...\n BOOF !!! \n \n*sniffs your pocket hopefully for a sammich\n"
     ]
    }
   ],
   "source": [
    "marty = Dog(name = 'Marty', bark = 'boof', fave_food='sammich')\n",
    "print(marty.legs)\n",
    "marty.speak()"
   ]
  },
  {
   "cell_type": "code",
   "execution_count": 63,
   "metadata": {},
   "outputs": [
    {
     "output_type": "stream",
     "name": "stdout",
     "text": [
      "I can make it on my ooooooown ...\n I CAN MAKE IT ON MY OOOOOOOWN !!! \n \n*sniffs your pocket hopefully for a treat\n"
     ]
    }
   ],
   "source": [
    "lil_brudder = Dog(legs = 1, name = \"Lil' Brudder\", bark = 'I can make it on my ooooooown')\n",
    "lil_brudder.speak()"
   ]
  },
  {
   "source": [
    "You can see the effect is that it took much less code to make new Dog()s, and we only needed to define what is different.\n",
    "\n",
    "You're confused and thats okay.  Plenty of professional coders make Classes without understanding of how or why any of this works, and only go through the motions copy/pasting code and changing a few things.  You wont even need to know that much, because you probably wont need to make custom Classes.  You just need to have contact familiarity with classes.  They are little code robots which contain their own versions of attributes(data they hold) and methods(functions that are attributes)\n",
    "\n",
    "Its even better to know that methods can work using their own attributes.\n",
    "\n",
    "In pandas when you make a DataFrame, youre making a little code robot that is holding your information(attributes) and has certian useful tricks it can do with it(methods)"
   ],
   "cell_type": "markdown",
   "metadata": {}
  },
  {
   "source": [
    "----------------------------------\n",
    "\n",
    "## Extra Class Examples:\n",
    "\n",
    "These basic class examples as shown above can be quite silly.  They are a good proof of concept but are not in-and-of-themselves useful, and the \\_\\_init\\_\\_ method can be put to much more dynamic use.  Here are some examples of some genuinely useful Classes with dynamic behavior.  Again, the more useful I make something the more complex it is, so its kay to be a little mystified with how these work.  Hopefully you can return to this with some experience and make sense of how they work:"
   ],
   "cell_type": "markdown",
   "metadata": {}
  },
  {
   "cell_type": "code",
   "execution_count": 64,
   "metadata": {},
   "outputs": [
    {
     "output_type": "execute_result",
     "data": {
      "text/plain": [
       "6"
      ]
     },
     "metadata": {},
     "execution_count": 64
    }
   ],
   "source": [
    "class Rectangle():\n",
    "    def __init__(self, length, width):\n",
    "        self.length = length\n",
    "        self.width = width\n",
    "        self.area = length * width\n",
    "        self.perimeter = length*2 + width*2\n",
    "\n",
    "small_rectangle = Rectangle(length = 3, width = 2)\n",
    "\n",
    "small_rectangle.area\n"
   ]
  },
  {
   "source": [
    "You can see that the \\_\\_init\\_\\_ only takes two arguments and uses those to calculate the other attributes on creation.  For more resource-intensive calculations it can be useful to front-load calculation like this so that it happens upon definition rather than later when you need to use it.  Lets look at another example with a bit more complexity:"
   ],
   "cell_type": "markdown",
   "metadata": {}
  },
  {
   "cell_type": "code",
   "execution_count": 65,
   "metadata": {},
   "outputs": [
    {
     "output_type": "execute_result",
     "data": {
      "text/plain": [
       "0.9999999999999999"
      ]
     },
     "metadata": {},
     "execution_count": 65
    }
   ],
   "source": [
    "class Circle():\n",
    "    def __init__(self, radius = False, diameter = False, circumference = False, area = False):\n",
    "        pi = 3.141592653589793\n",
    "        if radius:\n",
    "            self.radius = radius\n",
    "        elif diameter:\n",
    "            self.radius = diameter/2\n",
    "        elif circumference:\n",
    "            self.radius = circumference/(2*pi)\n",
    "        elif area:\n",
    "            self.radius = (area/pi)**0.5\n",
    "        self.diameter = self.radius * 2\n",
    "        self.circumference = 2*pi*self.radius\n",
    "        self.area = pi*self.radius**2\n",
    "dot = Circle(area = 1)\n",
    "dot.area"
   ]
  },
  {
   "source": [
    "The above example is a great use of a class because you can calculate a circle from any one of the parameters, so the first thing \\_\\_init\\_\\_ does is figure out which parameter you've entered, then use that to calculate the radius, then use the calculated radius to calculate the rest of the circle.  This was done for conciseness and as you can see it does create one major problem.  The Area was the only known, and yet because it was re-calculated it wasn't the same thing that was put in when by-rights it should be the ONLY thing that was exact about the circle.  To make a Class which makes more sense would require a much more verbose \\_\\_init\\_\\_ to keep the known parameter exact and calculate the other 3 from that. But to make it concise, it just always calculates the radius and re-calculates everything else.\n",
    "\n",
    "A much bigger issue you may not have caught was that there is no error handling.  Something like this should really let you know if you've entered an impossible circle, such as:"
   ],
   "cell_type": "markdown",
   "metadata": {}
  },
  {
   "cell_type": "code",
   "execution_count": 66,
   "metadata": {},
   "outputs": [
    {
     "output_type": "execute_result",
     "data": {
      "text/plain": [
       "5541.769440932395"
      ]
     },
     "metadata": {},
     "execution_count": 66
    }
   ],
   "source": [
    "weirdo_circle = Circle(radius = 42, area = 8)\n",
    "weirdo_circle.area"
   ]
  },
  {
   "source": [
    "It SHOULD throw an error to let you know that the circle is impossible and not proceed in trying to construct one.  Instead it checks radius, diameter, circumference and area, in that order, and calculates all radius followed by all other parameters based on the first one it finds.  It ignores the rest.  You might think its good to make something that does not throw errors, but in practice errors show us when something is probably not what you intended to type.  If the user mistypes radius and correctly types circumference they will end up with the wrong circle and nothing will let them know.  It might lead to much larger errors down the line as nothing stopped the programmer and let them know something was up.  So this is a bad class"
   ],
   "cell_type": "markdown",
   "metadata": {}
  },
  {
   "source": [
    "-----------------------------------------\n",
    "\n",
    "## Pushing further -- Subclasses\n",
    "\n",
    "So you can stop reading here.  Only read this part if you are confident that you understand how Classes work.  The following holds very little 'contact' value so mostly there will just be the negative impact of seeing something that reminds you of how little you know without adding anything of value.  I still wanted to add it, so hopefully if you're still reading that means that you are in the top half of Python programmers and truly understand how Classes work.\n",
    "\n",
    "So, onto subclasses:\n",
    "\n",
    "Since the point of Classes is to avoid redundancy, what if you want to make a similar class?  You can use the (even worse than \\_\\_init\\_\\_) \\_\\_super\\_\\_(). \\_\\_init\\_\\_ function to make a subclass!  Let's make a Sphere class which is a subclass of Circle"
   ],
   "cell_type": "markdown",
   "metadata": {}
  },
  {
   "cell_type": "code",
   "execution_count": 67,
   "metadata": {},
   "outputs": [],
   "source": [
    "class Sphere(Circle):\n",
    "    def __init__(self, volume = False, radius = False, diameter = False, circumference = False, area = False):\n",
    "        pi = 3.141592653589793\n",
    "        if volume:\n",
    "            self.volume = volume\n",
    "            radius = (3*volume/(4*pi))**(1/3)\n",
    "            super(Sphere, self).__init__(radius = radius, diameter = diameter, circumference = circumference, area = area)\n",
    "        else:\n",
    "            super(Sphere, self).__init__(radius = radius, diameter = diameter, circumference = circumference, area = area)\n",
    "            self.volume = (4/3)*pi*self.radius**3"
   ]
  },
  {
   "cell_type": "code",
   "execution_count": 68,
   "metadata": {},
   "outputs": [
    {
     "output_type": "execute_result",
     "data": {
      "text/plain": [
       "259883851296.82016"
      ]
     },
     "metadata": {},
     "execution_count": 68
    }
   ],
   "source": [
    "Earth = Sphere(radius = 3958.8)\n",
    "Earth.volume"
   ]
  },
  {
   "cell_type": "code",
   "execution_count": 69,
   "metadata": {},
   "outputs": [
    {
     "output_type": "execute_result",
     "data": {
      "text/plain": [
       "3958.7999999999984"
      ]
     },
     "metadata": {},
     "execution_count": 69
    }
   ],
   "source": [
    "Earth = Sphere(volume = 259883851296.82016)\n",
    "Earth.radius"
   ]
  },
  {
   "source": [
    "As you can see, each parameter is pretty consistent, and Google confirms that these are accurate Earth attributes. But what the heck is going on with \\_\\_super\\_\\_().\\_\\_init\\_\\_ ?\n",
    "\n",
    "Well \\_\\_super\\_\\_().\\_\\_init\\_\\_  calls the \\_\\_init\\_\\_ function of the parent class.  The first thing you ought to have noticed is that, while methods should always have the self parameter first, \\_\\_super\\_\\_().\\_\\_init\\_\\_ needs the name of the Subclass (in this case, Sphere) before self.\n",
    "\n",
    "It is a lot to wrap your head around, but because \\_\\_super\\_\\_().\\_\\_init\\_\\_ is simply calling the \\_\\_init\\_\\_ method of the parent class, that will inform you as to ***when*** to call it in your subclass.  Because the parent init does not have parameters for volume, if those are given I have it set volume directly then calculate radius, which is passed through to the \\_\\_super\\_\\_().\\_\\_init\\_\\_.  If the volume parameter is not the one which is given, it runs \\_\\_super\\_\\_().\\_\\_init\\_\\_ first, because that will calculate the radius from whatever is given, and then it calculates its own volume.\n",
    "\n",
    "You may also notice a very redundant looking set of keyword arguments put into \\_\\_super\\_\\_().\\_\\_init\\_\\_.  This is because it does not pass through parameters put into Sphere automatically, so you need to explicitely pass what was defined in the Sphere \\_\\_init\\_\\_ here.  You want to be sure ***NOT*** to repeat your defaults.  If they have been subsequently calculated from the Sphere defaults, they would be reset to the defaults in the \\_\\_super\\_\\_().\\_\\_init\\_\\_ and this would all be pointless.\n",
    "\n",
    "If you've followed so far:\n",
    "\n",
    "1.) Halleluja! It mut both be true that you're a genius and I'm a clearer communicator that I ever thought\n",
    "\n",
    "2.) I want to call attention to my use of radius if the 'if' part of the if/else block in Sphere.  You see \\_\\_super\\_\\_().\\_\\_init\\_\\_ will set self.radius to radius, so there is no need to do it earlier.  If you called Sphere.\\_\\_init\\_\\_ with a volume parameter and no radius, radius would start set to False, then it would reset that variable based on a calculation from volume, then because \\_\\_super\\_\\_().\\_\\_init\\_\\_ simply is setting its kwarg (keyword argument) to the value of the radius variable, it is recieving the changed value rather than the default of False.  If you followed up until now and I lost you here, thats fine.  Its a miracle I was able to guide you this far.  I fuckin barely understand this crap."
   ],
   "cell_type": "markdown",
   "metadata": {}
  },
  {
   "cell_type": "code",
   "execution_count": null,
   "metadata": {},
   "outputs": [],
   "source": []
  }
 ]
}